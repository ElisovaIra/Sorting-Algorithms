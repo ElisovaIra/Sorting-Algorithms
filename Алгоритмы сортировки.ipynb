{
 "cells": [
  {
   "cell_type": "markdown",
   "metadata": {},
   "source": [
    "# Визуализация \n",
    "\n",
    "http://airtucha.github.io/SortVis/"
   ]
  },
  {
   "cell_type": "markdown",
   "metadata": {},
   "source": [
    "# Сложность\n",
    "![Image](https://hsto.org/storage1/61a272a8/54806d34/69954080/310f329f.png)"
   ]
  },
  {
   "cell_type": "markdown",
   "metadata": {},
   "source": [
    "# Cортировки обменом"
   ]
  },
  {
   "cell_type": "markdown",
   "metadata": {},
   "source": [
    "## Bubble sort Сортировка пузырьком"
   ]
  },
  {
   "cell_type": "markdown",
   "metadata": {},
   "source": [
    "__Лучший__ случай для этой сортировки — отсортированный массив $O(n)$ (правда если мы учитываем, что если в предыдущий проход обменов не было (используем флажок) и выходим из цикла), __худший__ — отсортированный в обратном порядке $O(n^{2})$."
   ]
  },
  {
   "cell_type": "markdown",
   "metadata": {},
   "source": [
    "Самый простой, учебный вариант. Он также используется в более продвинутых сортировках (quicksort). Эффективен только на небольших массивах. \n",
    "\n",
    "Алгоритм состоит из повторяющихся проходов по сортируемому массиву. За каждый проход элементы последовательно сравниваются попарно и, если порядок в паре неверный, выполняется обмен элементов. Проходы по массиву повторяются N-1 раз или до тех пор, пока на очередном проходе не окажется, что обмены больше не нужны, что означает — массив отсортирован. При каждом проходе алгоритма по внутреннему циклу, очередной наибольший элемент массива ставится на своё место в конце массива рядом с предыдущим «наибольшим элементом», а наименьший элемент перемещается на одну позицию к началу массива («всплывает» до нужной позиции, как пузырёк в воде, отсюда и название алгоритма).\n",
    "\n",
    "__На 1 итерации самый большой элемент \"всплывает\" в конце массива. На второй итерации следующий по величине \"всплывает перед ним\" и т.д. Поэтому называется пузырьковая сортировка.__\n",
    "\n",
    "Особенность данного алгоритма заключается в следующем: после первого завершения внутреннего цикла максимальный элемент массива всегда находится на N-ой позиции. При втором проходе, следующий по значению максимальный элемент находится на N-1 месте. И так далее. Таким образом, на каждом следующем проходе число обрабатываемых элементов уменьшается на 1 и нет необходимости «обходить» весь массив от начала до конца каждый раз."
   ]
  },
  {
   "cell_type": "markdown",
   "metadata": {},
   "source": [
    "https://ru.wikipedia.org/wiki/%D0%A1%D0%BE%D1%80%D1%82%D0%B8%D1%80%D0%BE%D0%B2%D0%BA%D0%B0_%D0%BF%D1%83%D0%B7%D1%8B%D1%80%D1%8C%D0%BA%D0%BE%D0%BC\n",
    "\n",
    "http://interactivepython.org/runestone/static/pythonds/SortSearch/TheBubbleSort.html    "
   ]
  },
  {
   "cell_type": "markdown",
   "metadata": {},
   "source": [
    "![Image](https://hsto.org/getpro/habr/post_images/187/5a3/929/1875a3929dd14c8ea5ff4ccc3d0db9bd.gif)"
   ]
  },
  {
   "cell_type": "code",
   "execution_count": null,
   "metadata": {
    "collapsed": true
   },
   "outputs": [],
   "source": [
    "def bubbleSort(alist):\n",
    "    for passnum in range(len(alist)-1,0,-1):\n",
    "        for i in range(passnum):\n",
    "            if alist[i]>alist[i+1]:\n",
    "                temp = alist[i]\n",
    "                alist[i] = alist[i+1]\n",
    "                alist[i+1] = temp\n",
    "\n",
    "alist = [54,26,93,17,77,31,44,55,20]\n",
    "bubbleSort(alist)\n",
    "print(alist)"
   ]
  },
  {
   "cell_type": "markdown",
   "metadata": {},
   "source": [
    "## Cocktail Sort  Сортировка перемешиванием, шейкерная. Вариант bubble sort"
   ]
  },
  {
   "cell_type": "markdown",
   "metadata": {},
   "source": [
    "Лучший случай для этой сортировки — отсортированный массив (O(n)), худший — отсортированный в обратном порядке $O(n^{2})$."
   ]
  },
  {
   "cell_type": "markdown",
   "metadata": {},
   "source": [
    "Сортировка перемешиванием, или Шейкерная сортировка, или двунаправленная (англ. Cocktail sort) — разновидность пузырьковой сортировки. Анализируя метод пузырьковой сортировки, можно отметить два обстоятельства.\n",
    "\n",
    "__Во-первых__, если при движении по части массива перестановки не происходят, то эта часть массива уже отсортирована и, следовательно, её можно исключить из рассмотрения.\n",
    "\n",
    "__Во-вторых__, при движении от конца массива к началу минимальный элемент «всплывает» на первую позицию, а максимальный элемент сдвигается только на одну позицию вправо.\n",
    "\n",
    "Эти две идеи приводят к следующим модификациям в методе пузырьковой сортировки. \n",
    "\n",
    "- Границы рабочей части массива (то есть части массива, где происходит движение) устанавливаются в месте последнего обмена на каждой итерации. \n",
    "\n",
    "- Массив просматривается поочередно справа налево и слева направо."
   ]
  },
  {
   "cell_type": "markdown",
   "metadata": {},
   "source": [
    "https://ru.wikipedia.org/wiki/%D0%A1%D0%BE%D1%80%D1%82%D0%B8%D1%80%D0%BE%D0%B2%D0%BA%D0%B0_%D0%BF%D0%B5%D1%80%D0%B5%D0%BC%D0%B5%D1%88%D0%B8%D0%B2%D0%B0%D0%BD%D0%B8%D0%B5%D0%BC"
   ]
  },
  {
   "cell_type": "markdown",
   "metadata": {},
   "source": [
    "![Image](https://hsto.org/getpro/habr/post_images/2a9/ad7/855/2a9ad78556f13396ebc68cb4ac21e91c.gif)"
   ]
  },
  {
   "cell_type": "code",
   "execution_count": null,
   "metadata": {
    "collapsed": true
   },
   "outputs": [],
   "source": [
    "sample = [0, -1, 5, -2, 3]\n",
    "left = 0\n",
    "right = len(sample) - 1\n",
    "\n",
    "while left <= right:\n",
    " 7     for i in range(left, right, +1):\n",
    " 8         if sample[i] > sample[i + 1]:\n",
    " 9             sample[i], sample[i + 1] = sample[i + 1], sample[i]\n",
    "10     right -= 1\n",
    "11 \n",
    "12     for i in range(right, left, -1):\n",
    "13         if sample[i - 1] > sample[i]:\n",
    "14             sample[i], sample[i - 1] = sample[i - 1], sample[i]\n",
    "15     left += 1\n",
    "16 \n",
    "17 print(sample)"
   ]
  },
  {
   "cell_type": "markdown",
   "metadata": {},
   "source": [
    "## Чётно-нечётная сортировка (вариант bubble)"
   ]
  },
  {
   "cell_type": "markdown",
   "metadata": {},
   "source": [
    "На сей раз мы не будем сновать по массиву взад-вперёд, а снова вернёмся к идее планомерного обхода слева-направо, но только сделаем шире шаг. На первом проходе элементы с нечётным ключом сравниваем с соседями, зиждущимися на чётных местах (1-й сравниваем со 2-м, затем 3-й с 4-м, 5-й с 6-м и так далее). Затем наоборот – «чётные по счёту» элементы сравниваем/меняем с «нечётными». Затем снова «нечёт-чёт», потом опять «чёт-нечет». Процесс останавливается тогда, когда после подряд двух проходов по массиву («нечётно-чётному» и «чётно-нечётному») не произошло ни одного обмена. Стало быть, отсортировали."
   ]
  },
  {
   "cell_type": "markdown",
   "metadata": {},
   "source": [
    "https://habrahabr.ru/post/204600/"
   ]
  },
  {
   "cell_type": "markdown",
   "metadata": {},
   "source": [
    "## Сортировка расчёской (вариант bubble sort)"
   ]
  },
  {
   "cell_type": "markdown",
   "metadata": {},
   "source": [
    "В «пузырьке», «шейкере» и «чёт-нечете» при переборе массива сравниваются соседние элементы. Основная идея «расчёски» в том, чтобы первоначально брать достаточно большое расстояние между сравниваемыми элементами и по мере упорядочивания массива сужать это расстояние вплоть до минимального. Таким образом мы как бы причёсываем массив, постепенно разглаживая на всё более аккуратные пряди.\n",
    "\n",
    "Первоначальный разрыв между сравниваемыми элементами лучше брать не абы какой, а с учётом специальной величины называемой фактором уменьшения, оптимальное значение которой равно примерно 1,247. __Сначала расстояние между элементами равно размеру массива разделённого на фактор уменьшения (результат, естественно, округляется до ближайшего целого).__ Затем, пройдя массив с этим шагом, мы снова делим шаг на фактор уменьшения и проходим по списку вновь. Так продолжается до тех пор, пока разность индексов не достигнет единицы. В этом случае массив досортировывается обычным пузырьком."
   ]
  },
  {
   "cell_type": "markdown",
   "metadata": {},
   "source": [
    "https://ru.wikipedia.org/wiki/%D0%A1%D0%BE%D1%80%D1%82%D0%B8%D1%80%D0%BE%D0%B2%D0%BA%D0%B0_%D0%A8%D0%B5%D0%BB%D0%BB%D0%B0"
   ]
  },
  {
   "cell_type": "markdown",
   "metadata": {},
   "source": [
    "![Image](https://hsto.org/getpro/habr/post_images/15b/1bb/37e/15b1bb37e7d06fc9d2ccd8adb34b8980.gif)"
   ]
  },
  {
   "cell_type": "markdown",
   "metadata": {},
   "source": [
    "## Selection sort  Cортировка выбором"
   ]
  },
  {
   "cell_type": "markdown",
   "metadata": {},
   "source": [
    "https://ru.wikipedia.org/wiki/%D0%A1%D0%BE%D1%80%D1%82%D0%B8%D1%80%D0%BE%D0%B2%D0%BA%D0%B0_%D0%B2%D1%8B%D0%B1%D0%BE%D1%80%D0%BE%D0%BC"
   ]
  },
  {
   "cell_type": "markdown",
   "metadata": {},
   "source": [
    "Шаги алгоритма:\n",
    "\n",
    "- находим номер минимального значения в текущем списке\n",
    "- производим обмен этого значения со значением первой неотсортированной позиции (обмен не нужен, если минимальный элемент уже находится на данной позиции)\n",
    "- теперь сортируем хвост списка, исключив из рассмотрения уже отсортированные элементы\n",
    "\n",
    "Для реализации устойчивости алгоритма необходимо в пункте 2 минимальный элемент непосредственно вставлять в первую неотсортированную позицию, не меняя порядок остальных элементов."
   ]
  },
  {
   "cell_type": "markdown",
   "metadata": {},
   "source": [
    "![Image](http://interactivepython.org/runestone/static/pythonds/_images/selectionsortnew.png)"
   ]
  },
  {
   "cell_type": "markdown",
   "metadata": {},
   "source": [
    "# Сортировки сравнения (comparison sort)"
   ]
  },
  {
   "cell_type": "markdown",
   "metadata": {},
   "source": [
    "## Quick sort = быстрая сортировка. Придумал Хоар в 1960 г когда работал в МГУ"
   ]
  },
  {
   "cell_type": "markdown",
   "metadata": {},
   "source": [
    "__Общая идея алгоритма состоит в следующем:__\n",
    "\n",
    "Выбрать из массива элемент, называемый опорным (pivot). Это может быть любой из элементов массива. От выбора опорного элемента не зависит корректность алгоритма, но в отдельных случаях может сильно зависеть его эффективность (см.ниже).\n",
    "\n",
    "Сравнить все остальные элементы с опорным и переставить их в массиве так, чтобы разбить массив на три непрерывных отрезка, следующие друг за другом: «меньшие опорного», «равные» и «большие». (компьютерная реализация делается с помощью меток rightmark и leftmark). \n",
    "\n",
    "Для отрезков «меньших» и «больших» значений выполнить рекурсивно ту же последовательность операций, если длина отрезка больше единицы."
   ]
  },
  {
   "cell_type": "markdown",
   "metadata": {},
   "source": [
    "__Худший случай:__ массив уже отсортирован"
   ]
  },
  {
   "cell_type": "markdown",
   "metadata": {},
   "source": [
    "__Реализация__\n",
    "\n",
    "__(Hoare partition scheme)__\n",
    "\n",
    "Берем pivot первый элемент:\n",
    "\n",
    "- выставляем leftmark and rightmark как на рисунке в исходные позиции.\n",
    "- если элемент на leftmark < pivot => двигаем leftmark  ВПРАВО иначе стоп (чтобы меньшие элементы как бы оставались слева). Двигаем leftmark пока будет leftmark < pivot. Если стоп, переходим к rightmark\n",
    "\n",
    "- если элемент на rightmark > pivot => двигаем rightmark ВЛЕВО иначе стоп (чтобы меньшие элементы как бы оставались справа). Двигаем rightmark пока будет rightmark > pivot.\n",
    "\n",
    "- когда СТОП в leftmark и СТОП rightmark: МЕНЯЕМ элементы местами. При этом метки leftmark и rightmark ОСТАЮТСЯ на месте.\n",
    "\n",
    "- после обмена продолжаем, пока rightmark не залезет за leftmark. Когда ЗАЛЕЗЕТ, МЕНЯЕМ (rightmark) и (pivot) местами. Вуаля, массив раскидан на части: меньше пивота и больше пивота, пивот стоит между ними. \n",
    "\n",
    "- Повторяем рекурсивно процедуру для частей массива. \n"
   ]
  },
  {
   "cell_type": "markdown",
   "metadata": {},
   "source": [
    "![Image](http://interactivepython.org/courselib/static/pythonds/_images/partitionA.png)"
   ]
  },
  {
   "cell_type": "code",
   "execution_count": 11,
   "metadata": {
    "collapsed": false
   },
   "outputs": [
    {
     "name": "stdout",
     "output_type": "stream",
     "text": [
      "[17, 20, 26, 31, 44, 54, 55, 77, 93]\n"
     ]
    }
   ],
   "source": [
    "def quickSort(alist):\n",
    "    quickSortHelper(alist,0,len(alist)-1)\n",
    "\n",
    "def quickSortHelper(alist,first,last):\n",
    "    if first<last:\n",
    "\n",
    "        splitpoint = partition(alist,first,last)\n",
    "\n",
    "        quickSortHelper(alist,first,splitpoint-1)\n",
    "        quickSortHelper(alist,splitpoint+1,last)\n",
    "\n",
    "\n",
    "def partition(alist,first,last):\n",
    "    pivotvalue = alist[first]\n",
    "\n",
    "    leftmark = first+1\n",
    "    rightmark = last\n",
    "\n",
    "    done = False\n",
    "    while not done:\n",
    "\n",
    "        while leftmark <= rightmark and alist[leftmark] <= pivotvalue:\n",
    "            leftmark = leftmark + 1\n",
    "\n",
    "        while alist[rightmark] >= pivotvalue and rightmark >= leftmark:\n",
    "            rightmark = rightmark -1\n",
    "\n",
    "        if rightmark < leftmark:\n",
    "            done = True\n",
    "        else:\n",
    "            temp = alist[leftmark]\n",
    "            alist[leftmark] = alist[rightmark]\n",
    "            alist[rightmark] = temp\n",
    "\n",
    "    temp = alist[first]\n",
    "    alist[first] = alist[rightmark]\n",
    "    alist[rightmark] = temp\n",
    "\n",
    "\n",
    "    return rightmark\n",
    "\n",
    "alist = [54,26,93,17,77,31,44,55,20]\n",
    "quickSort(alist)\n",
    "print(alist)"
   ]
  },
  {
   "cell_type": "markdown",
   "metadata": {},
   "source": [
    "https://ru.wikipedia.org/wiki/%D0%91%D1%8B%D1%81%D1%82%D1%80%D0%B0%D1%8F_%D1%81%D0%BE%D1%80%D1%82%D0%B8%D1%80%D0%BE%D0%B2%D0%BA%D0%B0\n",
    "\n",
    "http://interactivepython.org/courselib/static/pythonds/SortSearch/TheQuickSort.html#fig-splitvalue"
   ]
  },
  {
   "cell_type": "markdown",
   "metadata": {},
   "source": [
    "## Merge sort Cортировка слиянием"
   ]
  },
  {
   "cell_type": "markdown",
   "metadata": {},
   "source": [
    "Разбиваем массив на две равные части leftHalf и rightHalf (если не делится на 2, округляем размер одной части). Если массив больше не делится, n = 1, то возращаем этот же массив. Располагаем эти leftHalf и rightHalf по порядку относительно друг друга. Если n > 1, то есть что делить дальше, вызываем рекурсивно деление каждой части leftHalf и rightHalf дальше."
   ]
  },
  {
   "cell_type": "code",
   "execution_count": null,
   "metadata": {
    "collapsed": false
   },
   "outputs": [],
   "source": [
    "# pseudocode\n",
    "\n",
    "# дополнительная функция merge - слияние двух отсортированных массивов\n",
    "def merge( A, B ):\n",
    "    if empty( A ):\n",
    "        return B\n",
    "    if empty( B ):\n",
    "        return A\n",
    "    if A[ 0 ] < B[ 0 ]:\n",
    "        return concat( A[ 0 ], merge( A[ 1...A_n ], B ) )\n",
    "    else:\n",
    "        return concat( B[ 0 ], merge( A, B[ 1...B_n ] ) )\n",
    "\n",
    "# основная ф-ия\n",
    "def mergeSort( A, n ):\n",
    "    if n = 1:\n",
    "        return A # it is already sorted\n",
    "    # floor function - уменьшает нецелое число до меньшего целого (ceiling function - увеличивает до следующего целого)\n",
    "    middle = floor( n / 2 )\n",
    "    leftHalf = A[ 1...middle ]\n",
    "    rightHalf = A[ ( middle + 1 )...n ]\n",
    "    return merge( mergeSort( leftHalf, middle ), mergeSort( rightHalf, n - middle ) )"
   ]
  },
  {
   "cell_type": "markdown",
   "metadata": {},
   "source": [
    "![Image](https://hsto.org/getpro/habr/post_images/655/a74/0f3/655a740f33d0ad2ed93b831d21c11fc5.png)"
   ]
  },
  {
   "cell_type": "markdown",
   "metadata": {},
   "source": [
    "### Insertion sort Сортировка вставками"
   ]
  },
  {
   "cell_type": "markdown",
   "metadata": {},
   "source": [
    "Идея:\n",
    "\n",
    "- Доходим до элемента и ищем его место = вставляем в нужное место"
   ]
  },
  {
   "cell_type": "markdown",
   "metadata": {},
   "source": [
    "__Худший случай__: массив отсортирован в обратном нужному порядке"
   ]
  },
  {
   "cell_type": "markdown",
   "metadata": {},
   "source": [
    "### Shell Sort Сортировка Шелла (оптимизированная сортировка вставками)"
   ]
  },
  {
   "cell_type": "markdown",
   "metadata": {},
   "source": [
    "n, зависит от выбранных шагов, n(logn)^2\n",
    "\n",
    "Затраты памяти: 1"
   ]
  },
  {
   "cell_type": "markdown",
   "metadata": {},
   "source": [
    "Сортировка вставками подмассивов, когда мы отбираем их с помощью шага d\n",
    "\n",
    "При сортировке Шелла сначала сравниваются и сортируются между собой значения, стоящие один от другого на некотором расстоянии d (о выборе значения d см. ниже). После этого процедура повторяется для некоторых меньших значений d, а завершается сортировка Шелла упорядочиванием элементов при d=1 (то есть обычной сортировкой вставками). Эффективность сортировки Шелла в определённых случаях обеспечивается тем, что элементы «быстрее» встают на свои места (в простых методах сортировки, например, пузырьковой, каждая перестановка двух элементов уменьшает количество инверсий в списке максимум на 1, а при сортировке Шелла это число может быть больше).\n",
    "\n",
    "Невзирая на то, что сортировка Шелла во многих случаях медленнее, чем быстрая сортировка, она имеет ряд преимуществ:\n",
    "\n",
    "- отсутствие потребности в памяти под стек;\n",
    "- отсутствие деградации при неудачных наборах данных — быстрая сортировка легко деградирует до O(n²), что хуже, чем худшее гарантированное время для сортировки Шелла.\n",
    "\n",
    "__Пример__\n",
    "\n",
    "Пусть дан список {\\displaystyle A=(32,95,16,82,24,66,35,19,75,54,40,43,93,68)} A=(32,95,16,82,24,66,35,19,75,54,40,43,93,68) и выполняется его сортировка методом Шелла, а в качестве значений {\\displaystyle d} d выбраны {\\displaystyle 5,3,1} 5,3,1.\n",
    "\n",
    "На первом шаге сортируются подсписки {\\displaystyle A} A, составленные из всех элементов {\\displaystyle A} A, различающихся на 5 позиций, то есть подсписки {\\displaystyle A_{5,1}=(32,66,40)} A_{{5,1}}=(32,66,40), {\\displaystyle A_{5,2}=(95,35,43)} A_{{5,2}}=(95,35,43), {\\displaystyle A_{5,3}=(16,19,93)} A_{{5,3}}=(16,19,93), {\\displaystyle A_{5,4}=(82,75,68)} A_{{5,4}}=(82,75,68), {\\displaystyle A_{5,5}=(24,54)} A_{{5,5}}=(24,54).\n",
    "\n",
    "В полученном списке на втором шаге вновь сортируются подсписки из отстоящих на 3 позиции элементов.\n",
    "\n",
    "Процесс завершается обычной сортировкой вставками получившегося списка."
   ]
  },
  {
   "cell_type": "markdown",
   "metadata": {},
   "source": [
    "https://ru.wikipedia.org/wiki/%D0%A1%D0%BE%D1%80%D1%82%D0%B8%D1%80%D0%BE%D0%B2%D0%BA%D0%B0_%D0%A8%D0%B5%D0%BB%D0%BB%D0%B0"
   ]
  },
  {
   "cell_type": "markdown",
   "metadata": {},
   "source": [
    "### Timsort Тимсорт (придуман в 2002 году Тимом Петерсом, используется в Python, Android JDK 1.5)"
   ]
  },
  {
   "cell_type": "markdown",
   "metadata": {
    "collapsed": true
   },
   "source": [
    "Идея: использовать то, что в массиве обычно уже есть отсортированные подмассивы.\n",
    "\n",
    "__Алгоритм:__\n",
    "\n",
    "Совокупность __Insertion sort (вставки)__ и __Merge sort (слияние)__\n",
    "\n",
    "- по определенному принципу разделяем на подмассивы\n",
    " \n",
    "- каждый подмассив сортируем Сортировкой Вставками Insertion\n",
    "\n",
    "- соединяем обратно эти массивы Сортировкой Слияния Merge"
   ]
  },
  {
   "cell_type": "markdown",
   "metadata": {},
   "source": [
    "https://habrahabr.ru/company/infopulse/blog/133303/"
   ]
  },
  {
   "cell_type": "markdown",
   "metadata": {},
   "source": [
    "### Heap sort"
   ]
  },
  {
   "cell_type": "markdown",
   "metadata": {},
   "source": [
    "1. Строим кучу\n",
    "2. Просто последовательно извлекать из кучи максимальный (корневой) элемент, и записывайте его в массив, пока куча не опустеет.\n",
    "3. Как извлечь максимальный элемент? \n",
    "    - корневой элемент = максимальный. Удаляем его. \n",
    "    - на его место ставим (внезапно!) самый нижний. Сравниваем новый корневой элемент с его потомками. Если все ок - конец.\n",
    "    - Если сравнили и поняли, что корневой элемент меньше потомка, меняем его с потомком \n",
    "    - Повторяем сравнивание с потомком рекурсией"
   ]
  },
  {
   "cell_type": "markdown",
   "metadata": {},
   "source": [
    "Куча — двоичное дерево. А это значит, что каждый родительский элемент имеет два дочерних. И хотя мы называем эту структуру данных кучей, но выражается она через обычный массив. \n",
    "Также куча всегда имеет высоту logn, где n — количество элементов\n",
    "\n",
    "На рисунке представлена куча типа max-heap, основанная на следующем правиле: дочерние элементы меньше родительского. Существуют также кучи min-heap, где дочерние элементы всегда больше родительского. \n",
    "\n",
    "Несколько простых функций для работы с кучами:"
   ]
  },
  {
   "cell_type": "markdown",
   "metadata": {},
   "source": [
    "![Image](https://hsto.org/files/d4f/b56/cc4/d4fb56cc45ad4f7abe9bf8ba90a56401.png)"
   ]
  },
  {
   "cell_type": "code",
   "execution_count": 2,
   "metadata": {
    "collapsed": true
   },
   "outputs": [],
   "source": [
    "global heap # куча\n",
    "global currSize # размер кучи\n",
    "\n",
    "def parent(i): #Получить индекс родителя для i-того элемента\n",
    "    return i/2\n",
    "\n",
    "def left(i): #Получить левый дочерний элемент от i-того\n",
    "    return 2*i\n",
    "\n",
    "def right(i): #Получить правый дочерний элемент от i-того\n",
    "    return (2*i + 1)"
   ]
  },
  {
   "cell_type": "markdown",
   "metadata": {},
   "source": [
    "__Добавление элемента в существующую кучу__\n",
    "\n",
    "Для начала, мы добавляем элемент в самый низ кучи, т.е. в конец массива. Затем мы меняем его местами с родительским элементом до тех пор, пока он не встанет на свое место. \n",
    "\n",
    "Алгоритм:\n",
    "\n",
    "- Добавляем элемент в самый низ кучи.\n",
    "\n",
    "- Сравниваем добавленный элемент с родительским; если порядок верный — останавливаемся.\n",
    "\n",
    "- Если нет — меняем элементы местами, и возвращаемся к предыдущему пункту."
   ]
  },
  {
   "cell_type": "code",
   "execution_count": null,
   "metadata": {
    "collapsed": false
   },
   "outputs": [],
   "source": [
    "def swap(a, b): #меняем элемент с индексом a на элемент с индексом b\n",
    "    temp = heap[a]\n",
    "    heap[a] = heap[b]\n",
    "    heap[b] = temp\n",
    "\n",
    "def insert(elem):\n",
    "    global currSize\n",
    "    \n",
    "    index = len(heap)\n",
    "    heap.append(elem)\n",
    "    currSize += 1\n",
    "    par = parent(index)\n",
    "    flag = 0\n",
    "    while flag != 1:\n",
    "        if index == 1: #Дошли до корневого элемента\n",
    "            flag = 1\n",
    "        elif heap[par] > elem: #Если индекс корневого элемента больше индекса нашего элемента - наш элемент на своем месте\n",
    "            flag = 1\n",
    "        else: #Меняем местами родительский элемент с нашим\n",
    "            swap(par, index)\n",
    "            index = par\n",
    "            par = parent(index)\n",
    "            \n",
    "    print heap"
   ]
  },
  {
   "cell_type": "markdown",
   "metadata": {},
   "source": [
    "__Извлечение максимального элемента кучи__\n",
    "\n",
    "Первый элемент в куче — всегда максимальный, так что мы просто удалим его (предварительно запомнив), и заменим самым нижним. Затем мы приведем кучу в правильный порядок, используя функцию:\n",
    "\n",
    "Алгоритм:\n",
    "\n",
    "- Заменить корневой элемент самым нижним.\n",
    "- Сравнить новый корневой элемент с дочерними. Если они в правильном порядке — остановиться.\n",
    "- Если нет — заменить корневой элемент на одного из дочерних (меньший для min-heap, больший для max-heap), и повторить шаг 2."
   ]
  },
  {
   "cell_type": "markdown",
   "metadata": {},
   "source": [
    "![Image](https://hsto.org/files/36d/43a/ce3/36d43ace39b246778f5817640ebb6945.jpg)"
   ]
  },
  {
   "cell_type": "code",
   "execution_count": null,
   "metadata": {
    "collapsed": true
   },
   "outputs": [],
   "source": [
    "def extractMax():\n",
    "    global currSize\n",
    "    if currSize != 0:\n",
    "        maxElem = heap[1]\n",
    "        heap[1] = heap[currSize] #Заменяем корневой элемент - последним\n",
    "        heap.pop(currSize) #Удаляем последний элемент\n",
    "        currSize -= 1 #Уменьшаем размер кучи\n",
    "        maxHeapify(1)\n",
    "        return maxElem\n",
    "\n",
    "def maxHeapify(index):\n",
    "    global currSize\n",
    "    \n",
    "    lar = index\n",
    "    l = left(index)\n",
    "    r = right(index)\n",
    "\n",
    "    #Вычисляем, какой из дочерних элементов больше; если он больше родительского - меняем местами\n",
    "    if l <= currSize and heap[l] > heap[lar]:\n",
    "        lar = l\n",
    "    if r <= currSize and heap[r] > heap[lar]:\n",
    "        lar = r\n",
    "    if lar != index:\n",
    "        swap(index, lar)\n",
    "        maxHeapify(lar)"
   ]
  },
  {
   "cell_type": "markdown",
   "metadata": {},
   "source": [
    "https://habrahabr.ru/post/263765/"
   ]
  },
  {
   "cell_type": "markdown",
   "metadata": {},
   "source": [
    "### Структуры данных: очередь, стек, куча и хеш"
   ]
  },
  {
   "cell_type": "markdown",
   "metadata": {},
   "source": [
    "https://habrahabr.ru/post/263765/"
   ]
  }
 ],
 "metadata": {
  "anaconda-cloud": {},
  "kernelspec": {
   "display_name": "Python [Root]",
   "language": "python",
   "name": "Python [Root]"
  },
  "language_info": {
   "codemirror_mode": {
    "name": "ipython",
    "version": 3
   },
   "file_extension": ".py",
   "mimetype": "text/x-python",
   "name": "python",
   "nbconvert_exporter": "python",
   "pygments_lexer": "ipython3",
   "version": "3.5.2"
  }
 },
 "nbformat": 4,
 "nbformat_minor": 1
}
